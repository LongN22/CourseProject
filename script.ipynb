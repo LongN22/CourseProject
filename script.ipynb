{
 "cells": [
  {
   "cell_type": "code",
   "execution_count": 399,
   "metadata": {},
   "outputs": [],
   "source": [
    "from bs4 import BeautifulSoup\n",
    "from selenium import webdriver \n",
    "from selenium.webdriver.chrome.options import Options\n",
    "import re \n",
    "import urllib\n",
    "import time"
   ]
  },
  {
   "cell_type": "markdown",
   "metadata": {},
   "source": [
    "### To use this application, paste the yelp restaurant link in the variable below"
   ]
  },
  {
   "cell_type": "code",
   "execution_count": 400,
   "metadata": {},
   "outputs": [],
   "source": [
    "site ='https://www.yelp.com/biz/everyday-kitchen-champaign-champaign?osq=Restaurants' #example link\n",
    "#site = 'https://www.yelp.com/biz/naya-bar-and-eatery-champaign-3?osq=Restaurants' #example link"
   ]
  },
  {
   "cell_type": "code",
   "execution_count": 401,
   "metadata": {},
   "outputs": [],
   "source": [
    "options = Options()\n",
    "options.headless = True\n",
    "#please use the chrome driver that associate with ur chrome version\n",
    "#https://chromedriver.chromium.org/downloads\n",
    "driver = webdriver.Chrome('./chromedriver',options=options) "
   ]
  },
  {
   "cell_type": "markdown",
   "metadata": {},
   "source": [
    "### Utils"
   ]
  },
  {
   "cell_type": "code",
   "execution_count": 402,
   "metadata": {},
   "outputs": [],
   "source": [
    "#uses webdriver object to execute javascript code and get dynamically loaded webcontent\n",
    "def get_js_soup(url,driver):\n",
    "    driver.get(url)\n",
    "    res_html = driver.execute_script('return document.body.innerHTML')\n",
    "    soup = BeautifulSoup(res_html,'html.parser') #beautiful soup object to be used for parsing html content\n",
    "    return soup"
   ]
  },
  {
   "cell_type": "markdown",
   "metadata": {},
   "source": [
    "### Scrape function"
   ]
  },
  {
   "cell_type": "code",
   "execution_count": 403,
   "metadata": {},
   "outputs": [],
   "source": [
    "def scrape_yel_page(site,driver):\n",
    "    print ('-'*20,'Scraping Yelp page review','-'*20)\n",
    "    reviews = []\n",
    "    #execute js on webpage to load element on webpage and get ready to parse the loaded HTML \n",
    "    soup = get_js_soup(site,driver)\n",
    "    if(soup):\n",
    "        for i in soup.find_all('span', class_=' raw__09f24__T4Ezm'):\n",
    "            reviews.append(i)\n",
    "        return reviews\n",
    "    else:\n",
    "        return \"it's empty\"\n",
    "    "
   ]
  },
  {
   "cell_type": "markdown",
   "metadata": {},
   "source": [
    "### Get the reviews"
   ]
  },
  {
   "cell_type": "code",
   "execution_count": 404,
   "metadata": {},
   "outputs": [
    {
     "name": "stdout",
     "output_type": "stream",
     "text": [
      "-------------------- Scraping Yelp page review --------------------\n",
      "[<span class=\" raw__09f24__T4Ezm\">1807 S Neil St</span>, <span class=\" raw__09f24__T4Ezm\">Champaign, IL 61820</span>, <span class=\" raw__09f24__T4Ezm\">Yelp users haven’t asked any questions yet about <strong>Everyday Kitchen - Champaign</strong>.</span>, <span class=\" raw__09f24__T4Ezm\" lang=\"en\">Excellent service! The waitress was super sweet and not sure who it was possibly the owner kindly brought some water for mg doggo. <br/><br/>The breakfast sandwich may sound like any normal one however there is this delicious relish that makes it phenomenal. <br/><br/>Here a short time but coming back because both food and service leaves you feel so good!</span>, <span class=\" raw__09f24__T4Ezm\">Hi Payal,<br/><br/>I know how precious time is and it means the world that you would take the time to share your experience.  I am so happy that we were able to provide you with an excellent experience and we look forward to welcoming you back.  <br/><br/>Our main restaurant will be re-opening on July 1st.  We hope we will be able to serve you at dinner or brunch as well on your next visit.<br/><br/>Warmly<br/>Michael Maggi</span>, <span class=\" raw__09f24__T4Ezm\" lang=\"en\">We were traveling through the area and stopped in for lunch. With Covid the inside tables were closed and the menu was limited unfortunately, the portions (especially for the price) was minimal.<br/><br/>I had the avocado toast. It came with 2 eggs and salad greens. The toast was about 1 inch wide with avocado chunks on it, eggs were on the side. <br/><br/>My SO had the turkey ham club sandwich. It had two slices of ham and 1 slice of Turkey. It also came with fries. <br/><br/>We both agreed that we would not likely stop back here. The food portion minimal.</span>, <span class=\" raw__09f24__T4Ezm\">Hi Steve,<br/><br/>Thank you for sharing your experience.  I am sorry that Covid restrictions did not allow all of our inside table to be open.  I want you to know how valuable your feedback was.  We have made some changes to our avocado toast so it now comes with two slices of Cuban bread with and a whole sliced avocado split between the two.  If the club presented only had one slice of turkey and two slices of ham that was also short of our recipe and I am deeply sorry for that.  I know when traveling it is always a risk but providing an exceptional experience is always our goal here at Everyday Kitchen.  Our main restaurant re-opens on July 1st, 2021.  I do hope that if you are every in the area again that you will give us the opportunity to regain your trust as patron.  Thank you again for sharing and helping us grow.<br/><br/>Warmly<br/>Michael Maggi</span>, <span class=\" raw__09f24__T4Ezm\" lang=\"en\">This place is adorable. The right amount of contemporary and comfortable.  The aesthetic reminds me in some ways of places in Munich Germany.  The staff are outstanding. Very friendly and helpful. And the food is creative but not over the top.  Simple combination of fresh and flavorful.  We came for brunch. The portions were in keeping with European theme.  We had the frittata-AMAZING- and the rustic French toast.</span>, <span class=\" raw__09f24__T4Ezm\">Thank you so much for your kind words.  We are always grateful for feedback on a guest experience.  It means the world to us that you enjoyed your visit and hope we will have the pleasure of welcoming you back soon!<br/>Warmly<br/>Michael Maggi<br/>Operations Manager - Lodgic Champaign</span>, <span class=\" raw__09f24__T4Ezm\" lang=\"en\">What a lovely place! The food was good but what really impressed me was the service - the servers were so welcoming, helpful and just so incredible! I had a lovely meal - highly recommend their curried butternut squash soup! - and spent a bit more time just enjoying a hot chocolate. Would definitely come back when in Champaign!</span>, <span class=\" raw__09f24__T4Ezm\" lang=\"en\">Came here on a friend's recommendation and I see why! I took my husband and he had a frittata with hollandaise sauce, and I had their Kobe steak and eggs. The only \"bad thing\" wasn't too bad, and it was my fault. I didn't realize how lean the cut of meat was and ordered it medium. Every bite was delicious and the decor was really colorful and modern. Staff was really friendly and attentive. Would definitely recommend to anyone looking to take someone for a date night/brunch, or just have a good meal. Looking forward to the next visit already!</span>, <span class=\" raw__09f24__T4Ezm\">Thank you for taking the time to share your positive review.  I am so thrilled you enjoyed your visit.  We strive very hard to provide an exceptional experience for every guest and appreciate hearing your kind words.  We look forward to welcoming you back!<br/><br/>Warm regards<br/>Michael Maggi<br/>Operations Manager - Lodgic Champaign</span>, <span class=\" raw__09f24__T4Ezm\" lang=\"en\">What a relief to find Everyday Kitchen open till 5pm while in town for a graduation ceremony today!<br/><br/>From age 2 to 75 and from burger to flatbread, everyone in my group devoured their delightfully delicious lunch while jamming out to great tunes from the 80s.<br/><br/>Next up, a smooth afternoon espresso experience. Followed by a calming chamomile tea.<br/><br/>I cannot tell you how rare it is to find a place with such hospitality, universally excellent menu items, and tasteful aesthetics. Across the board, 100%, no exaggeration - this is the kind of place I often dream of visiting but rarely really experienced. <br/><br/>I watched online as my cousin received his long-sought degree while sipping an exceptionally smooth decaf espresso (highly recommended by the most courteous wait-staff) and thought, well hey, if I can't be there in-person because of a pandemic, at least I am here viewing this with lightning fast internet and a perfectly brewed beverage.<br/><br/>All of the details are spot-on here. The quality of the dishes, magazine photo-ready setting, chill ambiance, wait-staff who love where they work, and did I mention every single dish was 5 star delicious. And what an incredible concept of combining great food with a workspace that is also family friendly offering day care services next door. Genius. <br/><br/>I told the staff to pass along to the owners that St. Louis would be a great new location, and she pointed out that two people I should tell were sitting at the counter. Sure enough, the Program Director and Food &amp; Beverage Director (not exactly sure on the titles as I write this, but you get the idea) were working on laptops - probably discussing new menu items or upcoming activities and combing through critical details so as not to overlook something important. Of course they are present and overseeing \"the happenings\" of the business in-person. These are the kinds of things that take a place to the next level. <br/><br/>Well done!</span>, <span class=\" raw__09f24__T4Ezm\">Good morning Daisy,<br/><br/>First I want to thank you for entrusting us with such a special occasion.  I can only imagine how proud you are of your grad.  Second I want to thank you for taking the time to share with us your experience.  It warms my heart to know that we were able to provide you with such a positive experience.  It is easy to talk the talk but as you know walking the walk can be a bit more challenging.  I am blessed to have a team that is as dedicated to creating exceptional guest experiences as I am.  I do hope we will have the pleasure of seeing your family again.<br/><br/>With warmest regards,<br/>Michael Maggi<br/>Senior Restaurant Manager<br/>Everyday Kitchen Restaurant, Bar, Cafe</span>, <span class=\" raw__09f24__T4Ezm\" lang=\"en\">FIVE STARS<br/>My last review (for a different restaurant) was 4 stars, and when I saw the Manager had reached out to understand why it wasn't 5, I told DH about it, saying I don't give 5 stars.</span>, <span class=\" raw__09f24__T4Ezm\" lang=\"en\">Great atmosphere, amazing service and people. Food was very delicious with nice presentation. Probably one of the best restaurants in the area. Will definitely be back again.</span>, <span class=\" raw__09f24__T4Ezm\">Thank you so much for taking the time to share your experience. Providing a world class experience, in the comfort of everyday is our passion and goal. It means so much to read your wonderful comments and know all the hard work to get here was worth it!  We look forward to your next visit.<br/>Warmly<br/>Michael Maggi<br/>Lodgic Operations Manager</span>, <span class=\" raw__09f24__T4Ezm\" lang=\"en\">My mom and I stopped here for an early lunch on a Thursday and I think we were the only people there which surprised me because this place was amazing! Masks are required for entry and tables are socially distanced. Overall the place is very clean (bathrooms included). We sat outside because the weather was perfect. The service was very fast and our waitress made our experience unforgettable (shout-out to Steph). My mom had the pork belly tacos off the lunch menu and loved them. I had the açaí bowl off the breakfast menu which tasted just as amazing as it looked. We also split a mac and cheese which only continued the trend of impressing our tastebuds. Hope to be back very soon!</span>, <span class=\" raw__09f24__T4Ezm\" lang=\"en\">Stopped for lunch while on a road trip to Chicago. We like to avoid fast food while traveling. We got our iced teas right away and they were good. We then proceeded to wait about 35-40 minutes when my husband's egg sandwich was served. Another couple who arrived long after we did also got theirs. The server apologized for the delay and told me my salad would arrive shortly . My husband finished his sandwich and I went the bathroom. Upon returning there was still no salad. I finally asked for my money back which she did with no argument. If they had simply told us up front about this issue we would have understood and made other plans. By the way, the egg sandwich was nothing special.</span>, <span class=\" raw__09f24__T4Ezm\">It is always a great disappointment to learn that we failed a guest.  We strive very hard to deliver an exceptional experience to all our guests and I am sorry yours was not.  I greatly appreciate you taking the time to tell us about your experience and we will use this information to learn and grow.  We were faced with some challenges the day of your visit but I hope that if you are ever in the area again you give us the opportunity to make it up to you.  If you wish to discuss further please feel free to contact me directly at <a href=\"mailto:michael.maggi@lodgic.org\">michael.maggi@lodgic.org</a><br/><br/>With great regard<br/>Michael Maggi<br/>Operations Manager - Lodgic Champaign</span>, <span class=\" raw__09f24__T4Ezm\"><b>Free Delivery</b></span>, <span class=\" raw__09f24__T4Ezm\"><b>$0</b> min</span>, <span class=\" raw__09f24__T4Ezm\"><b>30-40</b> mins</span>]\n"
     ]
    }
   ],
   "source": [
    "#get the reviews\n",
    "\n",
    "reviews = scrape_yel_page(site,driver)\n",
    "print(reviews)"
   ]
  },
  {
   "cell_type": "markdown",
   "metadata": {},
   "source": [
    "### Clean the reviews\n",
    "- remove all html tag"
   ]
  },
  {
   "cell_type": "code",
   "execution_count": 405,
   "metadata": {},
   "outputs": [
    {
     "name": "stdout",
     "output_type": "stream",
     "text": [
      "17\n"
     ]
    }
   ],
   "source": [
    "temp = reviews.copy()\n",
    "temp = temp[3:len(temp)-3]\n",
    "cleaned_data = []\n",
    "for review in temp:\n",
    "    new_review =  str(review).replace('<span class=\" raw__09f24__T4Ezm\" lang=\"en\">', '')\n",
    "    new_review =  str(new_review).replace('<span class=\" raw__09f24__T4Ezm\">', '')\n",
    "    new_review =  str(new_review).replace('<br/>', '')\n",
    "    new_review =  str(new_review).replace('</span>', '')\n",
    "    new_review =  str(new_review).replace('\\\\','')\n",
    "    # \\xa0 is actually non-breaking space in Latin1 (ISO 8859-1), and when encoded to utf-8, it is 2 bytes, replace it with 2 bytes\n",
    "    new_review =  str(new_review).replace(u'\\xa0', u' ')\n",
    "    cleaned_data.append(new_review)\n",
    "print(len(cleaned_data))"
   ]
  },
  {
   "cell_type": "markdown",
   "metadata": {},
   "source": [
    "### Now do some analysis"
   ]
  },
  {
   "cell_type": "markdown",
   "metadata": {},
   "source": [
    "- install metapy library so we can tokenized the reviews"
   ]
  },
  {
   "cell_type": "code",
   "execution_count": 406,
   "metadata": {},
   "outputs": [
    {
     "name": "stdout",
     "output_type": "stream",
     "text": [
      "\u001b[33mDEPRECATION: Python 3.5 reached the end of its life on September 13th, 2020. Please upgrade your Python as Python 3.5 is no longer maintained. pip 21.0 will drop support for Python 3.5 in January 2021. pip 21.0 will remove support for this functionality.\u001b[0m\n",
      "Requirement already satisfied: metapy in /Users/thienbinhdinh/anaconda3/envs/pro/lib/python3.5/site-packages (0.2.13)\n",
      "Requirement already satisfied: pytoml in /Users/thienbinhdinh/anaconda3/envs/pro/lib/python3.5/site-packages (0.1.21)\n"
     ]
    }
   ],
   "source": [
    "!pip install metapy pytoml"
   ]
  },
  {
   "cell_type": "code",
   "execution_count": 407,
   "metadata": {},
   "outputs": [],
   "source": [
    "import metapy "
   ]
  },
  {
   "cell_type": "code",
   "execution_count": 408,
   "metadata": {},
   "outputs": [],
   "source": [
    "def tok_string(str):\n",
    "    doc = metapy.index.Document()\n",
    "    doc.content(str)\n",
    "    tok = metapy.analyzers.ICUTokenizer(suppress_tags=True) #good\n",
    "    tok = metapy.analyzers.LowercaseFilter(tok) #good\n",
    "    tok = metapy.analyzers.LengthFilter(tok, min=2, max=15) #good\n",
    "    tok = metapy.analyzers.Porter2Filter(tok)\n",
    "    tok.set_content(doc.content())\n",
    "    tokens = [token for token in tok]\n",
    "    return tokens"
   ]
  },
  {
   "cell_type": "markdown",
   "metadata": {},
   "source": [
    "- start tokenizing"
   ]
  },
  {
   "cell_type": "code",
   "execution_count": 409,
   "metadata": {},
   "outputs": [
    {
     "name": "stdout",
     "output_type": "stream",
     "text": [
      "[['excel', 'servic', 'the', 'waitress', 'was', 'super', 'sweet', 'and', 'not', 'sure', 'who', 'it', 'was', 'possibl', 'the', 'owner', 'kind', 'brought', 'some', 'water', 'for', 'mg', 'doggo', 'the', 'breakfast', 'sandwich', 'may', 'sound', 'like', 'ani', 'normal', 'one', 'howev', 'there', 'is', 'this', 'delici', 'relish', 'that', 'make', 'it', 'phenomen', 'here', 'short', 'time', 'but', 'come', 'back', 'becaus', 'both', 'food', 'and', 'servic', 'leav', 'you', 'feel', 'so', 'good'], ['hi', 'payal', 'know', 'how', 'precious', 'time', 'is', 'and', 'it', 'mean', 'the', 'world', 'that', 'you', 'would', 'take', 'the', 'time', 'to', 'share', 'your', 'experi', 'am', 'so', 'happi', 'that', 'we', 'were', 'abl', 'to', 'provid', 'you', 'with', 'an', 'excel', 'experi', 'and', 'we', 'look', 'forward', 'to', 'welcom', 'you', 'back', 'our', 'main', 'restaur', 'will', 'be', 're', 'open', 'on', 'juli', '1st', 'we', 'hope', 'we', 'will', 'be', 'abl', 'to', 'serv', 'you', 'at', 'dinner', 'or', 'brunch', 'as', 'well', 'on', 'your', 'next', 'maggi'], ['we', 'were', 'travel', 'through', 'the', 'area', 'and', 'stop', 'in', 'for', 'lunch', 'with', 'covid', 'the', 'insid', 'tabl', 'were', 'close', 'and', 'the', 'menu', 'was', 'limit', 'unfortun', 'the', 'portion', 'especi', 'for', 'the', 'price', 'was', 'minimal.i', 'had', 'the', 'avocado', 'toast', 'it', 'came', 'with', 'egg', 'and', 'salad', 'green', 'the', 'toast', 'was', 'about', 'inch', 'wide', 'with', 'avocado', 'chunk', 'on', 'it', 'egg', 'were', 'on', 'the', 'side', 'my', 'so', 'had', 'the', 'turkey', 'ham', 'club', 'sandwich', 'it', 'had', 'two', 'slice', 'of', 'ham', 'and', 'slice', 'of', 'turkey', 'it', 'also', 'came', 'with', 'fri', 'we', 'both', 'agre', 'that', 'we', 'would', 'not', 'like', 'stop', 'back', 'here', 'the', 'food', 'portion', 'minim'], ['hi', 'steve', 'thank', 'you', 'for', 'share', 'your', 'experi', 'am', 'sorri', 'that', 'covid', 'restrict', 'did', 'not', 'allow', 'all', 'of', 'our', 'insid', 'tabl', 'to', 'be', 'open', 'want', 'you', 'to', 'know', 'how', 'valuabl', 'your', 'feedback', 'was', 'we', 'have', 'made', 'some', 'chang', 'to', 'our', 'avocado', 'toast', 'so', 'it', 'now', 'come', 'with', 'two', 'slice', 'of', 'cuban', 'bread', 'with', 'and', 'whole', 'slice', 'avocado', 'split', 'between', 'the', 'two', 'if', 'the', 'club', 'present', 'onli', 'had', 'one', 'slice', 'of', 'turkey', 'and', 'two', 'slice', 'of', 'ham', 'that', 'was', 'also', 'short', 'of', 'our', 'recip', 'and', 'am', 'deepli', 'sorri', 'for', 'that', 'know', 'when', 'travel', 'it', 'is', 'alway', 'risk', 'but', 'provid', 'an', 'except', 'experi', 'is', 'alway', 'our', 'goal', 'here', 'at', 'everyday', 'kitchen', 'our', 'main', 'restaur', 're', 'open', 'on', 'juli', '1st', '2021', 'do', 'hope', 'that', 'if', 'you', 'are', 'everi', 'in', 'the', 'area', 'again', 'that', 'you', 'will', 'give', 'us', 'the', 'opportun', 'to', 'regain', 'your', 'trust', 'as', 'patron', 'thank', 'you', 'again', 'for', 'share', 'and', 'help', 'us', 'maggi'], ['this', 'place', 'is', 'ador', 'the', 'right', 'amount', 'of', 'contemporari', 'and', 'comfort', 'the', 'aesthet', 'remind', 'me', 'in', 'some', 'way', 'of', 'place', 'in', 'munich', 'germani', 'the', 'staff', 'are', 'outstand', 'veri', 'friend', 'and', 'help', 'and', 'the', 'food', 'is', 'creativ', 'but', 'not', 'over', 'the', 'top', 'simpl', 'combin', 'of', 'fresh', 'and', 'flavor', 'we', 'came', 'for', 'brunch', 'the', 'portion', 'were', 'in', 'keep', 'with', 'european', 'theme', 'we', 'had', 'the', 'frittata', 'amaz', 'and', 'the', 'rustic', 'french', 'toast'], ['thank', 'you', 'so', 'much', 'for', 'your', 'kind', 'word', 'we', 'are', 'alway', 'grate', 'for', 'feedback', 'on', 'guest', 'experi', 'it', 'mean', 'the', 'world', 'to', 'us', 'that', 'you', 'enjoy', 'your', 'visit', 'and', 'hope', 'we', 'will', 'have', 'the', 'pleasur', 'of', 'welcom', 'you', 'back', 'soon', 'warmlymichael', 'maggioper', 'manag', 'lodgic', 'champaign'], ['what', 'love', 'place', 'the', 'food', 'was', 'good', 'but', 'what', 'realli', 'impress', 'me', 'was', 'the', 'servic', 'the', 'server', 'were', 'so', 'welcom', 'help', 'and', 'just', 'so', 'incred', 'had', 'love', 'meal', 'high', 'recommend', 'their', 'curri', 'butternut', 'squash', 'soup', 'and', 'spent', 'bit', 'more', 'time', 'just', 'enjoy', 'hot', 'chocol', 'would', 'definit', 'come', 'back', 'when', 'in', 'champaign'], ['came', 'here', 'on', 'friend', 'recommend', 'and', 'see', 'whi', 'took', 'my', 'husband', 'and', 'he', 'had', 'frittata', 'with', 'hollandais', 'sauc', 'and', 'had', 'their', 'kobe', 'steak', 'and', 'egg', 'the', 'onli', 'bad', 'thing', \"wasn't\", 'too', 'bad', 'and', 'it', 'was', 'my', 'fault', \"didn't\", 'realiz', 'how', 'lean', 'the', 'cut', 'of', 'meat', 'was', 'and', 'order', 'it', 'medium', 'everi', 'bite', 'was', 'delici', 'and', 'the', 'decor', 'was', 'realli', 'color', 'and', 'modern', 'staff', 'was', 'realli', 'friend', 'and', 'attent', 'would', 'definit', 'recommend', 'to', 'anyon', 'look', 'to', 'take', 'someon', 'for', 'date', 'night', 'brunch', 'or', 'just', 'have', 'good', 'meal', 'look', 'forward', 'to', 'the', 'next', 'visit', 'alreadi'], ['thank', 'you', 'for', 'take', 'the', 'time', 'to', 'share', 'your', 'posit', 'review', 'am', 'so', 'thrill', 'you', 'enjoy', 'your', 'visit', 'we', 'strive', 'veri', 'hard', 'to', 'provid', 'an', 'except', 'experi', 'for', 'everi', 'guest', 'and', 'appreci', 'hear', 'your', 'kind', 'word', 'we', 'look', 'forward', 'to', 'welcom', 'you', 'back', 'warm', 'regardsmichael', 'maggioper', 'manag', 'lodgic', 'champaign'], ['what', 'relief', 'to', 'find', 'everyday', 'kitchen', 'open', 'till', '5pm', 'while', 'in', 'town', 'for', 'graduat', 'ceremoni', 'today', 'from', 'age', 'to', '75', 'and', 'from', 'burger', 'to', 'flatbread', 'everyon', 'in', 'my', 'group', 'devour', 'their', 'delight', 'delici', 'lunch', 'while', 'jam', 'out', 'to', 'great', 'tune', 'from', 'the', '80s.next', 'up', 'smooth', 'afternoon', 'espresso', 'experi', 'follow', 'by', 'calm', 'chamomil', 'tea.i', 'cannot', 'tell', 'you', 'how', 'rare', 'it', 'is', 'to', 'find', 'place', 'with', 'such', 'hospit', 'univers', 'excel', 'menu', 'item', 'and', 'tast', 'aesthet', 'across', 'the', 'board', '100', 'no', 'exagger', 'this', 'is', 'the', 'kind', 'of', 'place', 'often', 'dream', 'of', 'visit', 'but', 'rare', 'realli', 'experienc', 'watch', 'onlin', 'as', 'my', 'cousin', 'receiv', 'his', 'long', 'sought', 'degre', 'while', 'sip', 'an', 'except', 'smooth', 'decaf', 'espresso', 'high', 'recommend', 'by', 'the', 'most', 'courteous', 'wait', 'staff', 'and', 'thought', 'well', 'hey', 'if', \"can't\", 'be', 'there', 'in', 'person', 'becaus', 'of', 'pandem', 'at', 'least', 'am', 'here', 'view', 'this', 'with', 'lightn', 'fast', 'internet', 'and', 'perfect', 'brew', 'beverage.al', 'of', 'the', 'detail', 'are', 'spot', 'on', 'here', 'the', 'qualiti', 'of', 'the', 'dish', 'magazin', 'photo', 'readi', 'set', 'chill', 'ambianc', 'wait', 'staff', 'who', 'love', 'where', 'they', 'work', 'and', 'did', 'mention', 'everi', 'singl', 'dish', 'was', 'star', 'delici', 'and', 'what', 'an', 'incred', 'concept', 'of', 'combin', 'great', 'food', 'with', 'workspac', 'that', 'is', 'also', 'famili', 'friend', 'offer', 'day', 'care', 'servic', 'next', 'door', 'genius', 'told', 'the', 'staff', 'to', 'pass', 'along', 'to', 'the', 'owner', 'that', 'st', 'loui', 'would', 'be', 'great', 'new', 'locat', 'and', 'she', 'point', 'out', 'that', 'two', 'peopl', 'should', 'tell', 'were', 'sit', 'at', 'the', 'counter', 'sure', 'enough', 'the', 'program', 'director', 'and', 'food', 'amp', 'beverag', 'director', 'not', 'exact', 'sure', 'on', 'the', 'titl', 'as', 'write', 'this', 'but', 'you', 'get', 'the', 'idea', 'were', 'work', 'on', 'laptop', 'probabl', 'discuss', 'new', 'menu', 'item', 'or', 'upcom', 'activ', 'and', 'comb', 'through', 'critic', 'detail', 'so', 'as', 'not', 'to', 'overlook', 'someth', 'import', 'of', 'cours', 'they', 'are', 'present', 'and', 'overse', 'the', 'happen', 'of', 'the', 'busi', 'in', 'person', 'these', 'are', 'the', 'kind', 'of', 'thing', 'that', 'take', 'place', 'to', 'the', 'next', 'level', 'well', 'done'], ['good', 'morn', 'daisi', 'first', 'want', 'to', 'thank', 'you', 'for', 'entrust', 'us', 'with', 'such', 'special', 'occas', 'can', 'onli', 'imagin', 'how', 'proud', 'you', 'are', 'of', 'your', 'grad', 'second', 'want', 'to', 'thank', 'you', 'for', 'take', 'the', 'time', 'to', 'share', 'with', 'us', 'your', 'experi', 'it', 'warm', 'my', 'heart', 'to', 'know', 'that', 'we', 'were', 'abl', 'to', 'provid', 'you', 'with', 'such', 'posit', 'experi', 'it', 'is', 'easi', 'to', 'talk', 'the', 'talk', 'but', 'as', 'you', 'know', 'walk', 'the', 'walk', 'can', 'be', 'bit', 'more', 'challeng', 'am', 'bless', 'to', 'have', 'team', 'that', 'is', 'as', 'dedic', 'to', 'creat', 'except', 'guest', 'experi', 'as', 'am', 'do', 'hope', 'we', 'will', 'have', 'the', 'pleasur', 'of', 'see', 'your', 'famili', 'again.with', 'warmest', 'regard', 'michael', 'maggisenior', 'restaur', 'managereveryday', 'kitchen', 'restaur', 'bar', 'cafe'], ['five', 'starsmi', 'last', 'review', 'for', 'differ', 'restaur', 'was', 'star', 'and', 'when', 'saw', 'the', 'manag', 'had', 'reach', 'out', 'to', 'understand', 'whi', 'it', \"wasn't\", 'told', 'dh', 'about', 'it', 'say', \"don't\", 'give', 'star'], ['great', 'atmospher', 'amaz', 'servic', 'and', 'peopl', 'food', 'was', 'veri', 'delici', 'with', 'nice', 'present', 'probabl', 'one', 'of', 'the', 'best', 'restaur', 'in', 'the', 'area', 'will', 'definit', 'be', 'back', 'again'], ['thank', 'you', 'so', 'much', 'for', 'take', 'the', 'time', 'to', 'share', 'your', 'experi', 'provid', 'world', 'class', 'experi', 'in', 'the', 'comfort', 'of', 'everyday', 'is', 'our', 'passion', 'and', 'goal', 'it', 'mean', 'so', 'much', 'to', 'read', 'your', 'wonder', 'comment', 'and', 'know', 'all', 'the', 'hard', 'work', 'to', 'get', 'here', 'was', 'worth', 'it', 'we', 'look', 'forward', 'to', 'your', 'next', 'maggilodg', 'oper', 'manag'], ['my', 'mom', 'and', 'stop', 'here', 'for', 'an', 'earli', 'lunch', 'on', 'thursday', 'and', 'think', 'we', 'were', 'the', 'onli', 'peopl', 'there', 'which', 'surpris', 'me', 'becaus', 'this', 'place', 'was', 'amaz', 'mask', 'are', 'requir', 'for', 'entri', 'and', 'tabl', 'are', 'social', 'distanc', 'overal', 'the', 'place', 'is', 'veri', 'clean', 'bathroom', 'includ', 'we', 'sat', 'outsid', 'becaus', 'the', 'weather', 'was', 'perfect', 'the', 'servic', 'was', 'veri', 'fast', 'and', 'our', 'waitress', 'made', 'our', 'experi', 'unforgett', 'shout', 'out', 'to', 'steph', 'my', 'mom', 'had', 'the', 'pork', 'belli', 'taco', 'off', 'the', 'lunch', 'menu', 'and', 'love', 'them', 'had', 'the', 'açaí', 'bowl', 'off', 'the', 'breakfast', 'menu', 'which', 'tast', 'just', 'as', 'amaz', 'as', 'it', 'look', 'we', 'also', 'split', 'mac', 'and', 'chees', 'which', 'onli', 'continu', 'the', 'trend', 'of', 'impress', 'our', 'tastebud', 'hope', 'to', 'be', 'back', 'veri', 'soon'], ['stop', 'for', 'lunch', 'while', 'on', 'road', 'trip', 'to', 'chicago', 'we', 'like', 'to', 'avoid', 'fast', 'food', 'while', 'travel', 'we', 'got', 'our', 'ice', 'tea', 'right', 'away', 'and', 'they', 'were', 'good', 'we', 'then', 'proceed', 'to', 'wait', 'about', '35', '40', 'minut', 'when', 'my', 'husband', 'egg', 'sandwich', 'was', 'serv', 'anoth', 'coupl', 'who', 'arriv', 'long', 'after', 'we', 'did', 'also', 'got', 'their', 'the', 'server', 'apolog', 'for', 'the', 'delay', 'and', 'told', 'me', 'my', 'salad', 'would', 'arriv', 'short', 'my', 'husband', 'finish', 'his', 'sandwich', 'and', 'went', 'the', 'bathroom', 'upon', 'return', 'there', 'was', 'still', 'no', 'salad', 'final', 'ask', 'for', 'my', 'money', 'back', 'which', 'she', 'did', 'with', 'no', 'argument', 'if', 'they', 'had', 'simpli', 'told', 'us', 'up', 'front', 'about', 'this', 'issu', 'we', 'would', 'have', 'understood', 'and', 'made', 'other', 'plan', 'by', 'the', 'way', 'the', 'egg', 'sandwich', 'was', 'noth', 'special'], ['it', 'is', 'alway', 'great', 'disappoint', 'to', 'learn', 'that', 'we', 'fail', 'guest', 'we', 'strive', 'veri', 'hard', 'to', 'deliv', 'an', 'except', 'experi', 'to', 'all', 'our', 'guest', 'and', 'am', 'sorri', 'your', 'was', 'not', 'great', 'appreci', 'you', 'take', 'the', 'time', 'to', 'tell', 'us', 'about', 'your', 'experi', 'and', 'we', 'will', 'use', 'this', 'inform', 'to', 'learn', 'and', 'grow', 'we', 'were', 'face', 'with', 'some', 'challeng', 'the', 'day', 'of', 'your', 'visit', 'but', 'hope', 'that', 'if', 'you', 'are', 'ever', 'in', 'the', 'area', 'again', 'you', 'give', 'us', 'the', 'opportun', 'to', 'make', 'it', 'up', 'to', 'you', 'if', 'you', 'wish', 'to', 'discuss', 'further', 'pleas', 'feel', 'free', 'to', 'contact', 'me', 'direct', 'at', 'href', 'lodgic.org', 'michael.maggi', 'lodgic.org', 'with', 'great', 'regardmichael', 'maggioper', 'manag', 'lodgic', 'champaign']]\n"
     ]
    }
   ],
   "source": [
    "tokenized_review = []\n",
    "for review in cleaned_data:\n",
    "    tokenized_review.append(tok_string(review))\n",
    "print(tokenized_review)"
   ]
  },
  {
   "cell_type": "markdown",
   "metadata": {},
   "source": [
    "### Tokenize positive and negative dataset"
   ]
  },
  {
   "cell_type": "markdown",
   "metadata": {},
   "source": [
    "- import the data then tokenize it"
   ]
  },
  {
   "cell_type": "code",
   "execution_count": 410,
   "metadata": {},
   "outputs": [],
   "source": [
    "pos_word = \"\"\n",
    "neg_word = \"\"\n",
    "neg2_word = \"\"\n",
    "with open('positives.txt','r') as f:\n",
    "    for line in f:\n",
    "        pos_word+= line\n",
    "        \n",
    "with open('negatives.txt','r') as f2:\n",
    "    for line in f2:\n",
    "        neg_word += line\n",
    "pos_token =  tok_string(pos_word)\n",
    "neg_token = tok_string(neg_word)"
   ]
  },
  {
   "cell_type": "markdown",
   "metadata": {},
   "source": [
    "### Find the number of postive review and negative review of the restaurant"
   ]
  },
  {
   "cell_type": "code",
   "execution_count": 414,
   "metadata": {},
   "outputs": [],
   "source": [
    "pos =0\n",
    "neg = 0\n",
    "count = 0\n",
    "for review in tokenized_review:\n",
    "    num_of_pos = 0\n",
    "    num_of_neg = 0\n",
    "    count += 1\n",
    "    for word in review:\n",
    "        if(word in pos_token):\n",
    "            num_of_pos+=1\n",
    "        if(word in neg_token):\n",
    "            num_of_neg+=1\n",
    "    if(num_of_pos>num_of_neg):\n",
    "        pos +=1\n",
    "    elif(num_of_pos <num_of_neg):\n",
    "        neg +=1"
   ]
  },
  {
   "cell_type": "code",
   "execution_count": 415,
   "metadata": {},
   "outputs": [
    {
     "name": "stdout",
     "output_type": "stream",
     "text": [
      "17\n",
      "0\n"
     ]
    }
   ],
   "source": [
    "print(pos)\n",
    "print(neg)"
   ]
  },
  {
   "cell_type": "markdown",
   "metadata": {},
   "source": [
    "### Create json"
   ]
  },
  {
   "cell_type": "code",
   "execution_count": 416,
   "metadata": {},
   "outputs": [
    {
     "name": "stdout",
     "output_type": "stream",
     "text": [
      "{\"negative\": 0, \"positive\": 17}\n"
     ]
    }
   ],
   "source": [
    "import json\n",
    "restaurant_review = {\n",
    "    \"positive\": pos,\n",
    "    \"negative\": neg\n",
    "}\n",
    "restaurant_review = json.dumps(restaurant_review)\n",
    "print(restaurant_review)"
   ]
  }
 ],
 "metadata": {
  "interpreter": {
   "hash": "a26e21ea848466838ab27aac3efdbe445255c957a7d67cd5acdaf77e48d7df56"
  },
  "kernelspec": {
   "display_name": "Python 3.5.6 64-bit ('pro': conda)",
   "language": "python",
   "name": "python3"
  },
  "language_info": {
   "codemirror_mode": {
    "name": "ipython",
    "version": 3
   },
   "file_extension": ".py",
   "mimetype": "text/x-python",
   "name": "python",
   "nbconvert_exporter": "python",
   "pygments_lexer": "ipython3",
   "version": "3.5.6"
  },
  "orig_nbformat": 4
 },
 "nbformat": 4,
 "nbformat_minor": 2
}
