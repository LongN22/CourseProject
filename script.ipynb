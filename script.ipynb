{
 "cells": [
  {
   "cell_type": "code",
   "execution_count": 250,
   "metadata": {},
   "outputs": [],
   "source": [
    "from bs4 import BeautifulSoup\n",
    "from selenium import webdriver \n",
    "from selenium.webdriver.chrome.options import Options\n",
    "import re \n",
    "import urllib\n",
    "import time"
   ]
  },
  {
   "cell_type": "code",
   "execution_count": 251,
   "metadata": {},
   "outputs": [],
   "source": [
    "options = Options()\n",
    "options.headless = True\n",
    "#please use the chrome driver that associate with ur chrome version\n",
    "#https://chromedriver.chromium.org/downloads\n",
    "driver = webdriver.Chrome('./chromedriver',options=options) "
   ]
  },
  {
   "cell_type": "markdown",
   "metadata": {},
   "source": [
    "### Utils"
   ]
  },
  {
   "cell_type": "code",
   "execution_count": 252,
   "metadata": {},
   "outputs": [],
   "source": [
    "#uses webdriver object to execute javascript code and get dynamically loaded webcontent\n",
    "def get_js_soup(url,driver):\n",
    "    driver.get(url)\n",
    "    res_html = driver.execute_script('return document.body.innerHTML')\n",
    "    soup = BeautifulSoup(res_html,'html.parser') #beautiful soup object to be used for parsing html content\n",
    "    return soup"
   ]
  },
  {
   "cell_type": "markdown",
   "metadata": {},
   "source": [
    "### Scrape function"
   ]
  },
  {
   "cell_type": "code",
   "execution_count": 253,
   "metadata": {},
   "outputs": [],
   "source": [
    "def scrape_yel_page(site,driver):\n",
    "    print ('-'*20,'Scraping Yelp page review','-'*20)\n",
    "    reviews = []\n",
    "    #execute js on webpage to load element on webpage and get ready to parse the loaded HTML \n",
    "    soup = get_js_soup(site,driver)\n",
    "    if(soup):\n",
    "        for i in soup.find_all('span', class_=' raw__09f24__T4Ezm'):\n",
    "            reviews.append(i)\n",
    "        return reviews\n",
    "    else:\n",
    "        return \"it's empty\"\n",
    "    "
   ]
  },
  {
   "cell_type": "markdown",
   "metadata": {},
   "source": [
    "### Get the reviews"
   ]
  },
  {
   "cell_type": "code",
   "execution_count": 263,
   "metadata": {},
   "outputs": [
    {
     "name": "stdout",
     "output_type": "stream",
     "text": [
      "-------------------- Scraping Yelp page review --------------------\n"
     ]
    }
   ],
   "source": [
    "#get the reviews\n",
    "#site ='https://www.yelp.com/biz/everyday-kitchen-champaign-champaign?osq=Restaurants'\n",
    "site = 'https://www.yelp.com/biz/naya-bar-and-eatery-champaign-3?osq=Restaurants' #url of directory listings of engineering faculty\n",
    "reviews = scrape_yel_page(site,driver)\n",
    "#print(reviews)"
   ]
  },
  {
   "cell_type": "markdown",
   "metadata": {},
   "source": [
    "### Clean the reviews\n",
    "- remove all html tag"
   ]
  },
  {
   "cell_type": "code",
   "execution_count": 264,
   "metadata": {},
   "outputs": [
    {
     "name": "stdout",
     "output_type": "stream",
     "text": [
      "11\n"
     ]
    }
   ],
   "source": [
    "temp = reviews.copy()\n",
    "temp = temp[3:len(temp)-3]\n",
    "cleaned_data = []\n",
    "for review in temp:\n",
    "    new_review =  str(review).replace('<span class=\" raw__09f24__T4Ezm\" lang=\"en\">', '')\n",
    "    new_review =  str(new_review).replace('<span class=\" raw__09f24__T4Ezm\">', '')\n",
    "    new_review =  str(new_review).replace('<br/>', '')\n",
    "    new_review =  str(new_review).replace('</span>', '')\n",
    "    new_review =  str(new_review).replace('\\\\','')\n",
    "    # \\xa0 is actually non-breaking space in Latin1 (ISO 8859-1), and when encoded to utf-8, it is 2 bytes, replace it with 2 bytes\n",
    "    new_review =  str(new_review).replace(u'\\xa0', u' ')\n",
    "    cleaned_data.append(new_review)\n",
    "print(len(cleaned_data))"
   ]
  },
  {
   "cell_type": "markdown",
   "metadata": {},
   "source": [
    "### Now do some analysis"
   ]
  },
  {
   "cell_type": "markdown",
   "metadata": {},
   "source": [
    "- install metapy library so we can tokenized the reviews"
   ]
  },
  {
   "cell_type": "code",
   "execution_count": 265,
   "metadata": {},
   "outputs": [
    {
     "name": "stdout",
     "output_type": "stream",
     "text": [
      "\u001b[33mDEPRECATION: Python 3.5 reached the end of its life on September 13th, 2020. Please upgrade your Python as Python 3.5 is no longer maintained. pip 21.0 will drop support for Python 3.5 in January 2021. pip 21.0 will remove support for this functionality.\u001b[0m\n",
      "Requirement already satisfied: metapy in /Users/thienbinhdinh/anaconda3/envs/pro/lib/python3.5/site-packages (0.2.13)\n",
      "Requirement already satisfied: pytoml in /Users/thienbinhdinh/anaconda3/envs/pro/lib/python3.5/site-packages (0.1.21)\n"
     ]
    }
   ],
   "source": [
    "!pip install metapy pytoml"
   ]
  },
  {
   "cell_type": "code",
   "execution_count": 266,
   "metadata": {},
   "outputs": [],
   "source": [
    "import metapy "
   ]
  },
  {
   "cell_type": "code",
   "execution_count": 267,
   "metadata": {},
   "outputs": [],
   "source": [
    "def tok_string(str):\n",
    "    doc = metapy.index.Document()\n",
    "    doc.content(str)\n",
    "    tok = metapy.analyzers.ICUTokenizer(suppress_tags=True) #good\n",
    "    tok = metapy.analyzers.LowercaseFilter(tok) #good\n",
    "    tok = metapy.analyzers.LengthFilter(tok, min=2, max=15) #good\n",
    "    tok = metapy.analyzers.Porter2Filter(tok)\n",
    "    tok.set_content(doc.content())\n",
    "    tokens = [token for token in tok]\n",
    "    return tokens"
   ]
  },
  {
   "cell_type": "markdown",
   "metadata": {},
   "source": [
    "- start tokenizing"
   ]
  },
  {
   "cell_type": "code",
   "execution_count": 268,
   "metadata": {},
   "outputs": [],
   "source": [
    "tokenized_review = []\n",
    "for review in cleaned_data:\n",
    "    tokenized_review.append(tok_string(review))\n",
    "#print(tokenized_review)"
   ]
  },
  {
   "cell_type": "markdown",
   "metadata": {},
   "source": [
    "### Tokenize positive and negative dataset"
   ]
  },
  {
   "cell_type": "markdown",
   "metadata": {},
   "source": [
    "- import the data then tokenize it"
   ]
  },
  {
   "cell_type": "code",
   "execution_count": 269,
   "metadata": {},
   "outputs": [],
   "source": [
    "pos_word = \"\"\n",
    "neg_word = \"\"\n",
    "neg2_word = \"\"\n",
    "with open('positives.txt','r') as f:\n",
    "    for line in f:\n",
    "        pos_word+= line\n",
    "        \n",
    "with open('negatives.txt','r') as f2:\n",
    "    for line in f2:\n",
    "        neg_word += line\n",
    "\n",
    "count = 0\n",
    "with open('negatives2.txt','r') as f3:\n",
    "    for line in f3:\n",
    "        neg2_word += line\n",
    "pos_token =  tok_string(pos_word)\n",
    "neg_token = tok_string(neg_word)\n",
    "neg2_token = tok_string(neg2_word)"
   ]
  },
  {
   "cell_type": "markdown",
   "metadata": {},
   "source": [
    "### Find the number of postive review and negative review of the restaurant"
   ]
  },
  {
   "cell_type": "code",
   "execution_count": 270,
   "metadata": {},
   "outputs": [],
   "source": [
    "pos = 0\n",
    "neg = 0\n",
    "for review in tokenized_review:\n",
    "    num_of_pos = 0\n",
    "    num_of_neg = 0\n",
    "    for word in review:\n",
    "        if(word in pos_token):\n",
    "            num_of_pos+=1\n",
    "        if(word in neg_token) or (word in neg2_token):\n",
    "            num_of_neg+=1\n",
    "    if(num_of_pos>num_of_neg):\n",
    "        pos +=1\n",
    "    else:\n",
    "        neg+=1"
   ]
  },
  {
   "cell_type": "code",
   "execution_count": 273,
   "metadata": {},
   "outputs": [
    {
     "name": "stdout",
     "output_type": "stream",
     "text": [
      "11\n",
      "0\n"
     ]
    }
   ],
   "source": [
    "print(pos)\n",
    "print(neg)"
   ]
  },
  {
   "cell_type": "markdown",
   "metadata": {},
   "source": [
    "### Create json"
   ]
  },
  {
   "cell_type": "code",
   "execution_count": 276,
   "metadata": {},
   "outputs": [
    {
     "name": "stdout",
     "output_type": "stream",
     "text": [
      "{\"negative\": 0, \"positive\": 11}\n"
     ]
    }
   ],
   "source": [
    "import json\n",
    "restaurant_review = {\n",
    "    \"positive\": pos,\n",
    "    \"negative\": neg\n",
    "}\n",
    "restaurant_review = json.dumps(restaurant_review)\n",
    "print(restaurant_review)"
   ]
  },
  {
   "cell_type": "code",
   "execution_count": null,
   "metadata": {},
   "outputs": [],
   "source": []
  }
 ],
 "metadata": {
  "interpreter": {
   "hash": "a26e21ea848466838ab27aac3efdbe445255c957a7d67cd5acdaf77e48d7df56"
  },
  "kernelspec": {
   "display_name": "Python 3.5.6 64-bit ('pro': conda)",
   "language": "python",
   "name": "python3"
  },
  "language_info": {
   "codemirror_mode": {
    "name": "ipython",
    "version": 3
   },
   "file_extension": ".py",
   "mimetype": "text/x-python",
   "name": "python",
   "nbconvert_exporter": "python",
   "pygments_lexer": "ipython3",
   "version": "3.5.6"
  },
  "orig_nbformat": 4
 },
 "nbformat": 4,
 "nbformat_minor": 2
}
